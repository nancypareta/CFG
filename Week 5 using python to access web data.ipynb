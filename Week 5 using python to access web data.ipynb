{
  "nbformat": 4,
  "nbformat_minor": 0,
  "metadata": {
    "colab": {
      "name": "Untitled1.ipynb",
      "provenance": [],
      "authorship_tag": "ABX9TyMcPluE/qlG/jr74bMX5rYZ",
      "include_colab_link": true
    },
    "kernelspec": {
      "name": "python3",
      "display_name": "Python 3"
    }
  },
  "cells": [
    {
      "cell_type": "markdown",
      "metadata": {
        "id": "view-in-github",
        "colab_type": "text"
      },
      "source": [
        "<a href=\"https://colab.research.google.com/github/nancypareta/nancy/blob/master/Week%205%20using%20python%20to%20access%20web%20data.ipynb\" target=\"_parent\"><img src=\"https://colab.research.google.com/assets/colab-badge.svg\" alt=\"Open In Colab\"/></a>"
      ]
    },
    {
      "cell_type": "code",
      "metadata": {
        "id": "zikdxW85qULb",
        "colab_type": "code",
        "colab": {
          "base_uri": "https://localhost:8080/",
          "height": 34
        },
        "outputId": "95b0e2a4-2313-4b57-905b-8392976f681c"
      },
      "source": [
        "\n",
        "import urllib\n",
        "import urllib.request as ur\n",
        "from bs4 import BeautifulSoup \n",
        "import xml.etree.ElementTree as ET\n",
        "\n",
        "sample_data = \"http://python-data.dr-chuck.net/comments_42.xml\"\n",
        "actual_data = \"http://py4e-data.dr-chuck.net/comments_435817.xml\"\n",
        "\n",
        "#We'll analyze this generic parameter, so we will only need to change its source\n",
        "#and not every single one of its appearances in the code\n",
        "#NOTE: I'm using Sublime Text and it doesn't accept raw_input, so I'll set the URL\n",
        "#from here isntead from a user prompt\n",
        "data_url = actual_data \n",
        "s = ur.urlopen(data_url)\n",
        "sl = s.read()  \n",
        "\n",
        "#xml_data contains the commentinfo object, as it is the main structure, so we \n",
        "#have to look for the comments element and then for all its comment elements\n",
        "xml_data = ET.fromstring(sl)\n",
        "search_str = \"comments/comment\"\n",
        "count_tags = xml_data.findall(search_str)\n",
        "\n",
        "#Computing the sum\n",
        "total_count = 0\n",
        "for tag in count_tags:\n",
        "\t#We'll find the \"count\" element inside each \"comment\" element and add it \n",
        "\tcount = tag.find('count')\n",
        "\ttotal_count += int(count.text)\n",
        "\n",
        "print(total_count)"
      ],
      "execution_count": 4,
      "outputs": [
        {
          "output_type": "stream",
          "text": [
            "2803\n"
          ],
          "name": "stdout"
        }
      ]
    }
  ]
}